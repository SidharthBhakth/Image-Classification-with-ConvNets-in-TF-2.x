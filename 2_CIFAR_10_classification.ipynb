{
  "nbformat": 4,
  "nbformat_minor": 0,
  "metadata": {
    "colab": {
      "name": "2. CIFAR-10 classification.ipynb",
      "provenance": [],
      "collapsed_sections": [],
      "authorship_tag": "ABX9TyOZefIpPI11crq9yOZJzdAU",
      "include_colab_link": true
    },
    "kernelspec": {
      "name": "python3",
      "display_name": "Python 3"
    },
    "accelerator": "GPU"
  },
  "cells": [
    {
      "cell_type": "markdown",
      "metadata": {
        "id": "view-in-github",
        "colab_type": "text"
      },
      "source": [
        "<a href=\"https://colab.research.google.com/github/SidharthBhakth/Image-Classification-with-ConvNets-in-TF-2.x/blob/master/2_CIFAR_10_classification.ipynb\" target=\"_parent\"><img src=\"https://colab.research.google.com/assets/colab-badge.svg\" alt=\"Open In Colab\"/></a>"
      ]
    },
    {
      "cell_type": "markdown",
      "metadata": {
        "id": "lNs4C3u-UeDd",
        "colab_type": "text"
      },
      "source": [
        "# CIFAR-10 classification\n",
        "\n",
        "Image classification on CIFAR-10 dataset using a 2D convolutional neural network with batch normalization and data augmentation."
      ]
    },
    {
      "cell_type": "code",
      "metadata": {
        "id": "s7JCSXhzH0t3",
        "colab_type": "code",
        "colab": {}
      },
      "source": [
        "import numpy as np\n",
        "\n",
        "import matplotlib.pyplot as plt\n",
        "import seaborn as sns\n",
        "\n",
        "from sklearn.metrics import confusion_matrix\n",
        "\n",
        "from tensorflow.keras.datasets import cifar10\n",
        "from tensorflow.keras.layers import Input, Conv2D, Dense, Flatten, Dropout, MaxPooling2D, BatchNormalization\n",
        "from tensorflow.keras.models import Model\n",
        "from tensorflow.keras.preprocessing.image import ImageDataGenerator"
      ],
      "execution_count": 0,
      "outputs": []
    },
    {
      "cell_type": "code",
      "metadata": {
        "id": "W0vWsG_0ce-6",
        "colab_type": "code",
        "colab": {}
      },
      "source": [
        "# Load in the data\n",
        "(X_train, y_train), (X_test, y_test) = cifar10.load_data()\n",
        "\n",
        "# Normalize feature matrix\n",
        "X_train, X_test = X_train / 255.0 , X_test / 255.0\n",
        "\n",
        "# Flatten labels\n",
        "y_train, y_test = y_train.flatten(), y_test.flatten()"
      ],
      "execution_count": 0,
      "outputs": []
    },
    {
      "cell_type": "code",
      "metadata": {
        "id": "-sGznjggh8E7",
        "colab_type": "code",
        "colab": {
          "base_uri": "https://localhost:8080/",
          "height": 84
        },
        "outputId": "9adf1aa3-ac33-4450-e285-f3bbf57b645d"
      },
      "source": [
        "print(\"X_train shape: {}\".format(X_train.shape))\n",
        "print(\"y_train shape: {}\".format(y_train.shape))\n",
        "\n",
        "print(\"X_test shape: {}\".format(X_test.shape))\n",
        "print(\"y_test shape: {}\".format(y_test.shape))"
      ],
      "execution_count": 3,
      "outputs": [
        {
          "output_type": "stream",
          "text": [
            "X_train shape: (50000, 32, 32, 3)\n",
            "y_train shape: (50000,)\n",
            "X_test shape: (10000, 32, 32, 3)\n",
            "y_test shape: (10000,)\n"
          ],
          "name": "stdout"
        }
      ]
    },
    {
      "cell_type": "code",
      "metadata": {
        "id": "KQeZ-V5riPSg",
        "colab_type": "code",
        "colab": {
          "base_uri": "https://localhost:8080/",
          "height": 34
        },
        "outputId": "25e97339-b3dc-4245-fab1-b18a5eaa4e1a"
      },
      "source": [
        "# Number of classes\n",
        "K = len(set(y_train))\n",
        "print(\"Number of classes: {}\".format(K))"
      ],
      "execution_count": 4,
      "outputs": [
        {
          "output_type": "stream",
          "text": [
            "Number of classes: 10\n"
          ],
          "name": "stdout"
        }
      ]
    },
    {
      "cell_type": "code",
      "metadata": {
        "id": "iRlBovSoHz6t",
        "colab_type": "code",
        "colab": {}
      },
      "source": [
        "class_names = ['airplane', 'automobile', 'bird', 'cat', 'deer', 'dog', 'frog', 'horse', 'ship', 'truck']"
      ],
      "execution_count": 0,
      "outputs": []
    },
    {
      "cell_type": "code",
      "metadata": {
        "id": "CdQiUW98iWva",
        "colab_type": "code",
        "colab": {}
      },
      "source": [
        "# Build the model (using keras functional API)\n",
        "\n",
        "i = Input(shape=X_train[0].shape)\n",
        "\n",
        "x = Conv2D(filters=32, kernel_size=(3,3), activation='relu', padding='same')(i)\n",
        "x = BatchNormalization()(x)\n",
        "\n",
        "x = Conv2D(filters=32, kernel_size=(3,3), activation='relu', padding='same')(x)\n",
        "x = BatchNormalization()(x)\n",
        "x = MaxPooling2D((2,2))(x)\n",
        "\n",
        "x = Conv2D(filters=64, kernel_size=(3,3), activation='relu', padding='same')(x)\n",
        "x = BatchNormalization()(x)\n",
        "\n",
        "x = Conv2D(filters=64, kernel_size=(3,3), activation='relu', padding='same')(x)\n",
        "x = BatchNormalization()(x)\n",
        "x = MaxPooling2D((2,2))(x)\n",
        "\n",
        "x = Conv2D(filters=128, kernel_size=(3,3), activation='relu', padding='same')(x)\n",
        "x = BatchNormalization()(x)\n",
        "\n",
        "x = Conv2D(filters=128, kernel_size=(3,3), activation='relu', padding='same')(x)\n",
        "x = BatchNormalization()(x)\n",
        "x = MaxPooling2D((2,2))(x)\n",
        "\n",
        "x = Flatten()(x)\n",
        "x = Dropout(0.2)(x)\n",
        "\n",
        "x = Dense(1024, activation='relu')(x)\n",
        "x = Dropout(0.2)(x)\n",
        "\n",
        "x = Dense(K, activation='softmax')(x)\n",
        "\n",
        "model = Model(i, x)"
      ],
      "execution_count": 0,
      "outputs": []
    },
    {
      "cell_type": "code",
      "metadata": {
        "id": "d6ERpEkOAs3V",
        "colab_type": "code",
        "colab": {
          "base_uri": "https://localhost:8080/",
          "height": 1000
        },
        "outputId": "cd6963bb-ac5d-4429-d108-fd175dc79968"
      },
      "source": [
        "# Compile\n",
        "model.compile(optimizer='adam',\n",
        "              loss='sparse_categorical_crossentropy',\n",
        "              metrics=['accuracy'])\n",
        "\n",
        "# Fit\n",
        "r = model.fit(X_train, y_train, validation_data=(X_test, y_test), epochs=50)"
      ],
      "execution_count": 7,
      "outputs": [
        {
          "output_type": "stream",
          "text": [
            "Epoch 1/50\n",
            "1563/1563 [==============================] - 10s 6ms/step - loss: 1.3060 - accuracy: 0.5490 - val_loss: 1.0689 - val_accuracy: 0.6248\n",
            "Epoch 2/50\n",
            "1563/1563 [==============================] - 10s 6ms/step - loss: 0.8474 - accuracy: 0.7046 - val_loss: 0.8945 - val_accuracy: 0.7002\n",
            "Epoch 3/50\n",
            "1563/1563 [==============================] - 10s 6ms/step - loss: 0.6928 - accuracy: 0.7606 - val_loss: 0.7474 - val_accuracy: 0.7462\n",
            "Epoch 4/50\n",
            "1563/1563 [==============================] - 10s 6ms/step - loss: 0.5823 - accuracy: 0.8000 - val_loss: 0.7297 - val_accuracy: 0.7547\n",
            "Epoch 5/50\n",
            "1563/1563 [==============================] - 10s 6ms/step - loss: 0.4927 - accuracy: 0.8323 - val_loss: 0.6101 - val_accuracy: 0.8048\n",
            "Epoch 6/50\n",
            "1563/1563 [==============================] - 10s 6ms/step - loss: 0.4168 - accuracy: 0.8570 - val_loss: 0.7267 - val_accuracy: 0.7736\n",
            "Epoch 7/50\n",
            "1563/1563 [==============================] - 10s 6ms/step - loss: 0.3549 - accuracy: 0.8779 - val_loss: 0.6115 - val_accuracy: 0.8081\n",
            "Epoch 8/50\n",
            "1563/1563 [==============================] - 10s 6ms/step - loss: 0.3025 - accuracy: 0.8949 - val_loss: 0.5795 - val_accuracy: 0.8176\n",
            "Epoch 9/50\n",
            "1563/1563 [==============================] - 10s 6ms/step - loss: 0.2543 - accuracy: 0.9109 - val_loss: 0.6357 - val_accuracy: 0.8152\n",
            "Epoch 10/50\n",
            "1563/1563 [==============================] - 9s 6ms/step - loss: 0.2203 - accuracy: 0.9242 - val_loss: 0.7085 - val_accuracy: 0.8077\n",
            "Epoch 11/50\n",
            "1563/1563 [==============================] - 9s 6ms/step - loss: 0.1931 - accuracy: 0.9343 - val_loss: 0.8059 - val_accuracy: 0.8020\n",
            "Epoch 12/50\n",
            "1563/1563 [==============================] - 9s 6ms/step - loss: 0.1695 - accuracy: 0.9431 - val_loss: 0.7455 - val_accuracy: 0.8188\n",
            "Epoch 13/50\n",
            "1563/1563 [==============================] - 10s 6ms/step - loss: 0.1621 - accuracy: 0.9444 - val_loss: 0.7507 - val_accuracy: 0.8194\n",
            "Epoch 14/50\n",
            "1563/1563 [==============================] - 10s 6ms/step - loss: 0.1419 - accuracy: 0.9510 - val_loss: 0.7935 - val_accuracy: 0.8173\n",
            "Epoch 15/50\n",
            "1563/1563 [==============================] - 10s 6ms/step - loss: 0.1318 - accuracy: 0.9559 - val_loss: 0.8614 - val_accuracy: 0.8057\n",
            "Epoch 16/50\n",
            "1563/1563 [==============================] - 10s 6ms/step - loss: 0.1298 - accuracy: 0.9568 - val_loss: 0.7219 - val_accuracy: 0.8343\n",
            "Epoch 17/50\n",
            "1563/1563 [==============================] - 10s 6ms/step - loss: 0.1176 - accuracy: 0.9615 - val_loss: 0.7224 - val_accuracy: 0.8232\n",
            "Epoch 18/50\n",
            "1563/1563 [==============================] - 10s 6ms/step - loss: 0.1067 - accuracy: 0.9636 - val_loss: 0.6719 - val_accuracy: 0.8348\n",
            "Epoch 19/50\n",
            "1563/1563 [==============================] - 10s 6ms/step - loss: 0.0980 - accuracy: 0.9675 - val_loss: 0.7294 - val_accuracy: 0.8268\n",
            "Epoch 20/50\n",
            "1563/1563 [==============================] - 10s 7ms/step - loss: 0.0966 - accuracy: 0.9684 - val_loss: 0.7378 - val_accuracy: 0.8306\n",
            "Epoch 21/50\n",
            "1563/1563 [==============================] - 9s 6ms/step - loss: 0.0952 - accuracy: 0.9685 - val_loss: 0.7241 - val_accuracy: 0.8304\n",
            "Epoch 22/50\n",
            "1563/1563 [==============================] - 10s 6ms/step - loss: 0.0826 - accuracy: 0.9721 - val_loss: 0.7935 - val_accuracy: 0.8325\n",
            "Epoch 23/50\n",
            "1563/1563 [==============================] - 10s 6ms/step - loss: 0.0867 - accuracy: 0.9720 - val_loss: 0.7797 - val_accuracy: 0.8376\n",
            "Epoch 24/50\n",
            "1563/1563 [==============================] - 9s 6ms/step - loss: 0.0752 - accuracy: 0.9746 - val_loss: 0.8300 - val_accuracy: 0.8316\n",
            "Epoch 25/50\n",
            "1563/1563 [==============================] - 10s 6ms/step - loss: 0.0757 - accuracy: 0.9748 - val_loss: 0.7580 - val_accuracy: 0.8282\n",
            "Epoch 26/50\n",
            "1563/1563 [==============================] - 9s 6ms/step - loss: 0.0701 - accuracy: 0.9772 - val_loss: 0.7856 - val_accuracy: 0.8340\n",
            "Epoch 27/50\n",
            "1563/1563 [==============================] - 10s 6ms/step - loss: 0.0731 - accuracy: 0.9757 - val_loss: 0.8161 - val_accuracy: 0.8225\n",
            "Epoch 28/50\n",
            "1563/1563 [==============================] - 10s 6ms/step - loss: 0.0642 - accuracy: 0.9791 - val_loss: 0.7667 - val_accuracy: 0.8374\n",
            "Epoch 29/50\n",
            "1563/1563 [==============================] - 10s 6ms/step - loss: 0.0648 - accuracy: 0.9794 - val_loss: 0.7903 - val_accuracy: 0.8358\n",
            "Epoch 30/50\n",
            "1563/1563 [==============================] - 10s 6ms/step - loss: 0.0661 - accuracy: 0.9787 - val_loss: 0.9093 - val_accuracy: 0.8260\n",
            "Epoch 31/50\n",
            "1563/1563 [==============================] - 10s 6ms/step - loss: 0.0597 - accuracy: 0.9806 - val_loss: 0.8250 - val_accuracy: 0.8356\n",
            "Epoch 32/50\n",
            "1563/1563 [==============================] - 9s 6ms/step - loss: 0.0569 - accuracy: 0.9817 - val_loss: 1.0493 - val_accuracy: 0.8005\n",
            "Epoch 33/50\n",
            "1563/1563 [==============================] - 10s 6ms/step - loss: 0.0578 - accuracy: 0.9811 - val_loss: 0.7702 - val_accuracy: 0.8392\n",
            "Epoch 34/50\n",
            "1563/1563 [==============================] - 10s 6ms/step - loss: 0.0550 - accuracy: 0.9816 - val_loss: 0.8070 - val_accuracy: 0.8390\n",
            "Epoch 35/50\n",
            "1563/1563 [==============================] - 9s 6ms/step - loss: 0.0553 - accuracy: 0.9817 - val_loss: 0.8147 - val_accuracy: 0.8294\n",
            "Epoch 36/50\n",
            "1563/1563 [==============================] - 9s 6ms/step - loss: 0.0542 - accuracy: 0.9820 - val_loss: 0.8713 - val_accuracy: 0.8304\n",
            "Epoch 37/50\n",
            "1563/1563 [==============================] - 9s 6ms/step - loss: 0.0510 - accuracy: 0.9835 - val_loss: 0.7961 - val_accuracy: 0.8384\n",
            "Epoch 38/50\n",
            "1563/1563 [==============================] - 9s 6ms/step - loss: 0.0503 - accuracy: 0.9833 - val_loss: 0.8992 - val_accuracy: 0.8303\n",
            "Epoch 39/50\n",
            "1563/1563 [==============================] - 10s 6ms/step - loss: 0.0481 - accuracy: 0.9851 - val_loss: 0.8664 - val_accuracy: 0.8452\n",
            "Epoch 40/50\n",
            "1563/1563 [==============================] - 10s 6ms/step - loss: 0.0508 - accuracy: 0.9836 - val_loss: 0.7876 - val_accuracy: 0.8405\n",
            "Epoch 41/50\n",
            "1563/1563 [==============================] - 10s 6ms/step - loss: 0.0462 - accuracy: 0.9849 - val_loss: 0.8576 - val_accuracy: 0.8365\n",
            "Epoch 42/50\n",
            "1563/1563 [==============================] - 10s 6ms/step - loss: 0.0465 - accuracy: 0.9853 - val_loss: 0.8903 - val_accuracy: 0.8387\n",
            "Epoch 43/50\n",
            "1563/1563 [==============================] - 9s 6ms/step - loss: 0.0464 - accuracy: 0.9850 - val_loss: 0.8466 - val_accuracy: 0.8369\n",
            "Epoch 44/50\n",
            "1563/1563 [==============================] - 10s 6ms/step - loss: 0.0440 - accuracy: 0.9856 - val_loss: 0.9370 - val_accuracy: 0.8277\n",
            "Epoch 45/50\n",
            "1563/1563 [==============================] - 10s 6ms/step - loss: 0.0444 - accuracy: 0.9856 - val_loss: 0.9531 - val_accuracy: 0.8393\n",
            "Epoch 46/50\n",
            "1563/1563 [==============================] - 10s 6ms/step - loss: 0.0469 - accuracy: 0.9859 - val_loss: 0.8953 - val_accuracy: 0.8390\n",
            "Epoch 47/50\n",
            "1563/1563 [==============================] - 9s 6ms/step - loss: 0.0384 - accuracy: 0.9874 - val_loss: 0.8830 - val_accuracy: 0.8405\n",
            "Epoch 48/50\n",
            "1563/1563 [==============================] - 10s 6ms/step - loss: 0.0441 - accuracy: 0.9865 - val_loss: 0.8354 - val_accuracy: 0.8393\n",
            "Epoch 49/50\n",
            "1563/1563 [==============================] - 10s 6ms/step - loss: 0.0435 - accuracy: 0.9858 - val_loss: 0.9804 - val_accuracy: 0.8353\n",
            "Epoch 50/50\n",
            "1563/1563 [==============================] - 10s 6ms/step - loss: 0.0379 - accuracy: 0.9879 - val_loss: 0.9875 - val_accuracy: 0.8346\n"
          ],
          "name": "stdout"
        }
      ]
    },
    {
      "cell_type": "code",
      "metadata": {
        "id": "taTWPCTXBQuE",
        "colab_type": "code",
        "colab": {
          "base_uri": "https://localhost:8080/",
          "height": 1000
        },
        "outputId": "933f2bb4-cf8f-4430-e588-f116f2ca4ec9"
      },
      "source": [
        "# Fit model with real time data augmentation \n",
        "data_generator = ImageDataGenerator(width_shift_range=0.1, height_shift_range=0.1, horizontal_flip=True)\n",
        "train_generator = data_generator.flow(X_train, y_train, batch_size=32)\n",
        "\n",
        "r = model.fit(train_generator, validation_data=(X_test, y_test), steps_per_epoch=X_train.shape[0]/32, epochs=50)"
      ],
      "execution_count": 8,
      "outputs": [
        {
          "output_type": "stream",
          "text": [
            "Epoch 1/50\n",
            "1563/1562 [==============================] - 26s 17ms/step - loss: 0.5551 - accuracy: 0.8237 - val_loss: 0.5785 - val_accuracy: 0.8118\n",
            "Epoch 2/50\n",
            "1563/1562 [==============================] - 26s 17ms/step - loss: 0.4372 - accuracy: 0.8566 - val_loss: 0.4565 - val_accuracy: 0.8440\n",
            "Epoch 3/50\n",
            "1563/1562 [==============================] - 26s 17ms/step - loss: 0.4061 - accuracy: 0.8646 - val_loss: 0.4378 - val_accuracy: 0.8552\n",
            "Epoch 4/50\n",
            "1563/1562 [==============================] - 26s 17ms/step - loss: 0.3785 - accuracy: 0.8744 - val_loss: 0.4693 - val_accuracy: 0.8469\n",
            "Epoch 5/50\n",
            "1563/1562 [==============================] - 26s 17ms/step - loss: 0.3635 - accuracy: 0.8775 - val_loss: 0.4648 - val_accuracy: 0.8547\n",
            "Epoch 6/50\n",
            "1563/1562 [==============================] - 26s 17ms/step - loss: 0.3485 - accuracy: 0.8833 - val_loss: 0.4338 - val_accuracy: 0.8581\n",
            "Epoch 7/50\n",
            "1563/1562 [==============================] - 26s 17ms/step - loss: 0.3317 - accuracy: 0.8876 - val_loss: 0.4471 - val_accuracy: 0.8552\n",
            "Epoch 8/50\n",
            "1563/1562 [==============================] - 26s 17ms/step - loss: 0.3288 - accuracy: 0.8893 - val_loss: 0.4517 - val_accuracy: 0.8534\n",
            "Epoch 9/50\n",
            "1563/1562 [==============================] - 27s 17ms/step - loss: 0.3169 - accuracy: 0.8938 - val_loss: 0.4380 - val_accuracy: 0.8609\n",
            "Epoch 10/50\n",
            "1563/1562 [==============================] - 27s 17ms/step - loss: 0.3109 - accuracy: 0.8948 - val_loss: 0.4242 - val_accuracy: 0.8633\n",
            "Epoch 11/50\n",
            "1563/1562 [==============================] - 27s 17ms/step - loss: 0.2986 - accuracy: 0.8990 - val_loss: 0.4488 - val_accuracy: 0.8601\n",
            "Epoch 12/50\n",
            "1563/1562 [==============================] - 27s 17ms/step - loss: 0.2928 - accuracy: 0.9011 - val_loss: 0.4266 - val_accuracy: 0.8574\n",
            "Epoch 13/50\n",
            "1563/1562 [==============================] - 27s 17ms/step - loss: 0.2824 - accuracy: 0.9039 - val_loss: 0.4584 - val_accuracy: 0.8576\n",
            "Epoch 14/50\n",
            "1563/1562 [==============================] - 26s 17ms/step - loss: 0.2747 - accuracy: 0.9053 - val_loss: 0.4166 - val_accuracy: 0.8666\n",
            "Epoch 15/50\n",
            "1563/1562 [==============================] - 27s 17ms/step - loss: 0.2692 - accuracy: 0.9092 - val_loss: 0.4467 - val_accuracy: 0.8658\n",
            "Epoch 16/50\n",
            "1563/1562 [==============================] - 27s 17ms/step - loss: 0.2617 - accuracy: 0.9123 - val_loss: 0.4297 - val_accuracy: 0.8666\n",
            "Epoch 17/50\n",
            "1563/1562 [==============================] - 27s 17ms/step - loss: 0.2549 - accuracy: 0.9134 - val_loss: 0.4205 - val_accuracy: 0.8716\n",
            "Epoch 18/50\n",
            "1563/1562 [==============================] - 27s 17ms/step - loss: 0.2586 - accuracy: 0.9124 - val_loss: 0.4313 - val_accuracy: 0.8609\n",
            "Epoch 19/50\n",
            "1563/1562 [==============================] - 27s 17ms/step - loss: 0.2436 - accuracy: 0.9181 - val_loss: 0.4089 - val_accuracy: 0.8689\n",
            "Epoch 20/50\n",
            "1563/1562 [==============================] - 27s 18ms/step - loss: 0.2441 - accuracy: 0.9176 - val_loss: 0.4202 - val_accuracy: 0.8674\n",
            "Epoch 21/50\n",
            "1563/1562 [==============================] - 28s 18ms/step - loss: 0.2379 - accuracy: 0.9192 - val_loss: 0.4324 - val_accuracy: 0.8739\n",
            "Epoch 22/50\n",
            "1563/1562 [==============================] - 28s 18ms/step - loss: 0.2289 - accuracy: 0.9222 - val_loss: 0.4254 - val_accuracy: 0.8683\n",
            "Epoch 23/50\n",
            "1563/1562 [==============================] - 28s 18ms/step - loss: 0.2276 - accuracy: 0.9227 - val_loss: 0.4125 - val_accuracy: 0.8695\n",
            "Epoch 24/50\n",
            "1563/1562 [==============================] - 27s 17ms/step - loss: 0.2259 - accuracy: 0.9237 - val_loss: 0.4166 - val_accuracy: 0.8716\n",
            "Epoch 25/50\n",
            "1563/1562 [==============================] - 27s 17ms/step - loss: 0.2167 - accuracy: 0.9260 - val_loss: 0.4382 - val_accuracy: 0.8756\n",
            "Epoch 26/50\n",
            "1563/1562 [==============================] - 27s 17ms/step - loss: 0.2204 - accuracy: 0.9246 - val_loss: 0.4362 - val_accuracy: 0.8701\n",
            "Epoch 27/50\n",
            "1563/1562 [==============================] - 27s 17ms/step - loss: 0.2124 - accuracy: 0.9284 - val_loss: 0.4094 - val_accuracy: 0.8723\n",
            "Epoch 28/50\n",
            "1563/1562 [==============================] - 27s 17ms/step - loss: 0.2102 - accuracy: 0.9285 - val_loss: 0.4804 - val_accuracy: 0.8633\n",
            "Epoch 29/50\n",
            "1563/1562 [==============================] - 27s 17ms/step - loss: 0.2087 - accuracy: 0.9293 - val_loss: 0.4371 - val_accuracy: 0.8659\n",
            "Epoch 30/50\n",
            "1563/1562 [==============================] - 27s 17ms/step - loss: 0.2041 - accuracy: 0.9301 - val_loss: 0.4735 - val_accuracy: 0.8682\n",
            "Epoch 31/50\n",
            "1563/1562 [==============================] - 26s 17ms/step - loss: 0.2035 - accuracy: 0.9313 - val_loss: 0.4413 - val_accuracy: 0.8756\n",
            "Epoch 32/50\n",
            "1563/1562 [==============================] - 26s 17ms/step - loss: 0.2034 - accuracy: 0.9311 - val_loss: 0.4502 - val_accuracy: 0.8736\n",
            "Epoch 33/50\n",
            "1563/1562 [==============================] - 27s 17ms/step - loss: 0.1966 - accuracy: 0.9332 - val_loss: 0.4367 - val_accuracy: 0.8760\n",
            "Epoch 34/50\n",
            "1563/1562 [==============================] - 26s 17ms/step - loss: 0.1930 - accuracy: 0.9341 - val_loss: 0.4256 - val_accuracy: 0.8710\n",
            "Epoch 35/50\n",
            "1563/1562 [==============================] - 26s 17ms/step - loss: 0.1929 - accuracy: 0.9351 - val_loss: 0.4149 - val_accuracy: 0.8794\n",
            "Epoch 36/50\n",
            "1563/1562 [==============================] - 27s 17ms/step - loss: 0.1890 - accuracy: 0.9363 - val_loss: 0.4301 - val_accuracy: 0.8790\n",
            "Epoch 37/50\n",
            "1563/1562 [==============================] - 26s 17ms/step - loss: 0.1837 - accuracy: 0.9373 - val_loss: 0.4131 - val_accuracy: 0.8769\n",
            "Epoch 38/50\n",
            "1563/1562 [==============================] - 26s 17ms/step - loss: 0.1842 - accuracy: 0.9375 - val_loss: 0.4458 - val_accuracy: 0.8715\n",
            "Epoch 39/50\n",
            "1563/1562 [==============================] - 26s 17ms/step - loss: 0.1835 - accuracy: 0.9379 - val_loss: 0.4471 - val_accuracy: 0.8786\n",
            "Epoch 40/50\n",
            "1563/1562 [==============================] - 26s 17ms/step - loss: 0.1805 - accuracy: 0.9389 - val_loss: 0.4541 - val_accuracy: 0.8660\n",
            "Epoch 41/50\n",
            "1563/1562 [==============================] - 26s 17ms/step - loss: 0.1788 - accuracy: 0.9400 - val_loss: 0.4335 - val_accuracy: 0.8750\n",
            "Epoch 42/50\n",
            "1563/1562 [==============================] - 26s 17ms/step - loss: 0.1710 - accuracy: 0.9427 - val_loss: 0.5044 - val_accuracy: 0.8630\n",
            "Epoch 43/50\n",
            "1563/1562 [==============================] - 26s 17ms/step - loss: 0.1755 - accuracy: 0.9407 - val_loss: 0.4178 - val_accuracy: 0.8781\n",
            "Epoch 44/50\n",
            "1563/1562 [==============================] - 26s 17ms/step - loss: 0.1732 - accuracy: 0.9407 - val_loss: 0.4575 - val_accuracy: 0.8779\n",
            "Epoch 45/50\n",
            "1563/1562 [==============================] - 26s 17ms/step - loss: 0.1683 - accuracy: 0.9425 - val_loss: 0.4246 - val_accuracy: 0.8760\n",
            "Epoch 46/50\n",
            "1563/1562 [==============================] - 26s 17ms/step - loss: 0.1684 - accuracy: 0.9435 - val_loss: 0.4780 - val_accuracy: 0.8765\n",
            "Epoch 47/50\n",
            "1563/1562 [==============================] - 26s 17ms/step - loss: 0.1655 - accuracy: 0.9442 - val_loss: 0.4200 - val_accuracy: 0.8745\n",
            "Epoch 48/50\n",
            "1563/1562 [==============================] - 26s 17ms/step - loss: 0.1672 - accuracy: 0.9424 - val_loss: 0.4620 - val_accuracy: 0.8757\n",
            "Epoch 49/50\n",
            "1563/1562 [==============================] - 26s 17ms/step - loss: 0.1680 - accuracy: 0.9450 - val_loss: 0.4406 - val_accuracy: 0.8851\n",
            "Epoch 50/50\n",
            "1563/1562 [==============================] - 26s 17ms/step - loss: 0.1688 - accuracy: 0.9434 - val_loss: 0.4449 - val_accuracy: 0.8760\n"
          ],
          "name": "stdout"
        }
      ]
    },
    {
      "cell_type": "code",
      "metadata": {
        "id": "cvHT4thVElTi",
        "colab_type": "code",
        "colab": {
          "base_uri": "https://localhost:8080/",
          "height": 279
        },
        "outputId": "1508cd64-a20c-4eb7-a67d-741ccd0da74d"
      },
      "source": [
        "# Plot loss curve\n",
        "plt.plot(r.history['loss'], label='loss')\n",
        "plt.plot(r.history['val_loss'], label='val_loss')\n",
        "plt.xlabel('Epochs')\n",
        "plt.ylabel('Loss')\n",
        "plt.legend()\n",
        "plt.show()"
      ],
      "execution_count": 9,
      "outputs": [
        {
          "output_type": "display_data",
          "data": {
            "image/png": "[encoded data removed]",
            "text/plain": [
              "<Figure size 432x288 with 1 Axes>"
            ]
          },
          "metadata": {
            "tags": [],
            "needs_background": "light"
          }
        }
      ]
    },
    {
      "cell_type": "code",
      "metadata": {
        "id": "B21HrFwCEmpc",
        "colab_type": "code",
        "colab": {
          "base_uri": "https://localhost:8080/",
          "height": 279
        },
        "outputId": "7d0bc789-ee67-444b-f56a-37cca69197f6"
      },
      "source": [
        "# Plot accuracy curve\n",
        "plt.plot(r.history['accuracy'], label='accuracy')\n",
        "plt.plot(r.history['val_accuracy'], label='val_accuracy')\n",
        "plt.xlabel('Epochs')\n",
        "plt.ylabel('Accuracy')\n",
        "plt.legend()\n",
        "plt.show()"
      ],
      "execution_count": 10,
      "outputs": [
        {
          "output_type": "display_data",
          "data": {
            "image/png": "[encoded data removed]",
            "text/plain": [
              "<Figure size 432x288 with 1 Axes>"
            ]
          },
          "metadata": {
            "tags": [],
            "needs_background": "light"
          }
        }
      ]
    },
    {
      "cell_type": "code",
      "metadata": {
        "id": "l7cdVSdLErIl",
        "colab_type": "code",
        "colab": {}
      },
      "source": [
        "# Predict\n",
        "y_pred = model.predict(X_test).argmax(axis=1)"
      ],
      "execution_count": 0,
      "outputs": []
    },
    {
      "cell_type": "code",
      "metadata": {
        "id": "h7mAjSKdHIAf",
        "colab_type": "code",
        "colab": {
          "base_uri": "https://localhost:8080/",
          "height": 550
        },
        "outputId": "92a47f6b-811e-4767-ee28-459e08fae442"
      },
      "source": [
        "# Plot annotated confusion matrix\n",
        "cnf_mat = confusion_matrix(y_test, y_pred)\n",
        "\n",
        "fig, ax = plt.subplots(figsize=(8,8))\n",
        "\n",
        "fig = sns.heatmap(cnf_mat.T, square=True, annot=True, fmt='d', cmap='binary', cbar=False)\n",
        "\n",
        "plt.xlabel('Actual')\n",
        "ax.set_xticklabels(class_names, rotation=45)\n",
        "\n",
        "plt.ylabel('Predicted')\n",
        "ax.set_yticklabels(class_names, rotation=0)\n",
        "\n",
        "plt.title('Confusion Matrix')\n",
        "\n",
        "plt.show()"
      ],
      "execution_count": 16,
      "outputs": [
        {
          "output_type": "display_data",
          "data": {
            "image/png": "[encoded data removed]",
            "text/plain": [
              "<Figure size 576x576 with 1 Axes>"
            ]
          },
          "metadata": {
            "tags": [],
            "needs_background": "light"
          }
        }
      ]
    },
    {
      "cell_type": "code",
      "metadata": {
        "id": "yheTdnwhKWpf",
        "colab_type": "code",
        "colab": {
          "base_uri": "https://localhost:8080/",
          "height": 334
        },
        "outputId": "bd21fa93-ab64-409d-a223-b42d0cf24ab6"
      },
      "source": [
        "# View misclassified examples\n",
        "misclassified_idx = np.where(y_pred != y_test)[0]\n",
        "idx = np.random.choice(misclassified_idx)\n",
        "\n",
        "print(\"Actual: {}\".format(class_names[y_test[idx]]))\n",
        "print(\"Predicted: {}\".format(class_names[y_pred[idx]]))\n",
        "print(\"\\n\")\n",
        "\n",
        "plt.imshow(X_test[idx], cmap='gray')\n",
        "plt.show()"
      ],
      "execution_count": 21,
      "outputs": [
        {
          "output_type": "stream",
          "text": [
            "Actual: deer\n",
            "Predicted: horse\n",
            "\n",
            "\n"
          ],
          "name": "stdout"
        },
        {
          "output_type": "display_data",
          "data": {
            "image/png": "[encoded data removed]",
            "text/plain": [
              "<Figure size 432x288 with 1 Axes>"
            ]
          },
          "metadata": {
            "tags": [],
            "needs_background": "light"
          }
        }
      ]
    },
    {
      "cell_type": "code",
      "metadata": {
        "id": "7EQwqdPCKaHh",
        "colab_type": "code",
        "colab": {
          "base_uri": "https://localhost:8080/",
          "height": 857
        },
        "outputId": "febde2fe-95e9-409e-b8d3-353626b6a211"
      },
      "source": [
        "model.summary()"
      ],
      "execution_count": 18,
      "outputs": [
        {
          "output_type": "stream",
          "text": [
            "Model: \"model\"\n",
            "_________________________________________________________________\n",
            "Layer (type)                 Output Shape              Param #   \n",
            "=================================================================\n",
            "input_1 (InputLayer)         [(None, 32, 32, 3)]       0         \n",
            "_________________________________________________________________\n",
            "conv2d (Conv2D)              (None, 32, 32, 32)        896       \n",
            "_________________________________________________________________\n",
            "batch_normalization (BatchNo (None, 32, 32, 32)        128       \n",
            "_________________________________________________________________\n",
            "conv2d_1 (Conv2D)            (None, 32, 32, 32)        9248      \n",
            "_________________________________________________________________\n",
            "batch_normalization_1 (Batch (None, 32, 32, 32)        128       \n",
            "_________________________________________________________________\n",
            "max_pooling2d (MaxPooling2D) (None, 16, 16, 32)        0         \n",
            "_________________________________________________________________\n",
            "conv2d_2 (Conv2D)            (None, 16, 16, 64)        18496     \n",
            "_________________________________________________________________\n",
            "batch_normalization_2 (Batch (None, 16, 16, 64)        256       \n",
            "_________________________________________________________________\n",
            "conv2d_3 (Conv2D)            (None, 16, 16, 64)        36928     \n",
            "_________________________________________________________________\n",
            "batch_normalization_3 (Batch (None, 16, 16, 64)        256       \n",
            "_________________________________________________________________\n",
            "max_pooling2d_1 (MaxPooling2 (None, 8, 8, 64)          0         \n",
            "_________________________________________________________________\n",
            "conv2d_4 (Conv2D)            (None, 8, 8, 128)         73856     \n",
            "_________________________________________________________________\n",
            "batch_normalization_4 (Batch (None, 8, 8, 128)         512       \n",
            "_________________________________________________________________\n",
            "conv2d_5 (Conv2D)            (None, 8, 8, 128)         147584    \n",
            "_________________________________________________________________\n",
            "batch_normalization_5 (Batch (None, 8, 8, 128)         512       \n",
            "_________________________________________________________________\n",
            "max_pooling2d_2 (MaxPooling2 (None, 4, 4, 128)         0         \n",
            "_________________________________________________________________\n",
            "flatten (Flatten)            (None, 2048)              0         \n",
            "_________________________________________________________________\n",
            "dropout (Dropout)            (None, 2048)              0         \n",
            "_________________________________________________________________\n",
            "dense (Dense)                (None, 1024)              2098176   \n",
            "_________________________________________________________________\n",
            "dropout_1 (Dropout)          (None, 1024)              0         \n",
            "_________________________________________________________________\n",
            "dense_1 (Dense)              (None, 10)                10250     \n",
            "=================================================================\n",
            "Total params: 2,397,226\n",
            "Trainable params: 2,396,330\n",
            "Non-trainable params: 896\n",
            "_________________________________________________________________\n"
          ],
          "name": "stdout"
        }
      ]
    }
  ]
}